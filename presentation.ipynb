{
 "cells": [
  {
   "cell_type": "markdown",
   "metadata": {
    "slideshow": {
     "slide_type": "slide"
    }
   },
   "source": [
    "# Gaussian Process Regression for Astronomy\n",
    "#### Brett Morris, Python in Astronomy 2020"
   ]
  },
  {
   "cell_type": "markdown",
   "metadata": {
    "slideshow": {
     "slide_type": "notes"
    }
   },
   "source": [
    "Requirements for presentation: \n",
    "```\n",
    "conda install -c conda-forge rise\n",
    "```\n",
    "Don't forget: to enable scrolling in presentation view, click on the NbExtensions tab on the Jupyter Home page, select RISE, and enable scrolling by toggling the `scroll` option"
   ]
  },
  {
   "cell_type": "markdown",
   "metadata": {
    "slideshow": {
     "slide_type": "slide"
    }
   },
   "source": [
    "# *The* GP Reference\n",
    "\n",
    "The purpose of this tutorial is to introduce the concepts of Gaussian process regression, and give users an interactive environment for experimenting with Gaussian processes. This tutorial is based on [Rasmussen and Williams (2006)](http://www.gaussianprocess.org/gpml/), but is designed to be more readable and to encourage experimentation!"
   ]
  },
  {
   "cell_type": "markdown",
   "metadata": {
    "slideshow": {
     "slide_type": "slide"
    }
   },
   "source": [
    "### Getting started\n",
    "\n",
    "\n",
    "Let's generate some fake, one dimensional data, which we'll fit with various techniques.\n",
    "\n",
    "First we need to import matplotlib, numpy, scipy for this notebook:"
   ]
  },
  {
   "cell_type": "code",
   "execution_count": 57,
   "metadata": {
    "slideshow": {
     "slide_type": "fragment"
    }
   },
   "outputs": [],
   "source": [
    "# Display utilities \n",
    "%matplotlib inline\n",
    "from IPython.display import display\n",
    "from ipywidgets import interactive\n",
    "import matplotlib.pyplot as plt\n",
    "plt.rcParams['font.size'] = 20\n",
    "\n",
    "# Import the standard Python science stack:\n",
    "import numpy as np\n",
    "from scipy.optimize import minimize"
   ]
  },
  {
   "cell_type": "code",
   "execution_count": 58,
   "metadata": {
    "slideshow": {
     "slide_type": "fragment"
    }
   },
   "outputs": [
    {
     "data": {
      "image/png": "[encoded data removed]",
      "text/plain": [
       "<Figure size 576x432 with 1 Axes>"
      ]
     },
     "metadata": {
      "needs_background": "light"
     },
     "output_type": "display_data"
    }
   ],
   "source": [
    "np.random.seed(42)\n",
    "ndim = 10\n",
    "\n",
    "# We want our `x` and `y` vectors to be column vectors, so we'll use \n",
    "# the [:, np.newaxis] shorthand to turn rows into columns\n",
    "y = np.random.rand(ndim)[:, None]\n",
    "y -= y.mean()\n",
    "x = np.arange(len(y), dtype=float)[:, None]\n",
    "x -= x.mean()\n",
    "yerr = (y.std() + 0.1*np.random.randn(len(x))) \n",
    "\n",
    "# Plot the observations:\n",
    "plt.figure(figsize=(8, 6))\n",
    "plt.errorbar(x, y, yerr, fmt='.', color='k')\n",
    "plt.xlabel('x')\n",
    "plt.ylabel('y');"
   ]
  },
  {
   "cell_type": "markdown",
   "metadata": {
    "slideshow": {
     "slide_type": "slide"
    }
   },
   "source": [
    "# Linear regression\n",
    "\n",
    "Solutions to the [ordinary least squares](https://en.wikipedia.org/wiki/Ordinary_least_squares) estimators $\\hat{\\beta}$ are\n",
    "\n",
    "$$ \\hat{\\beta} = ({\\bf X}^\\top {\\bf N}^{-1} {\\bf X})^{-1} {\\bf X}^\\top {\\bf N}^{-1} y,$$\n",
    "\n",
    "and their uncertainties are given by\n",
    "\n",
    "$$ \\mathrm{cov} = {\\bf X}^\\top {\\bf N}^{-1} {\\bf X}, $$\n",
    "\n",
    "where ${\\bf N} = \\sigma_n^2 {\\bf I}$ is the matrix of variances $\\sigma_n^2$ on measurements $y$.\n",
    "\n",
    "Let's implement this using numpy! Note: the `@` operator can be used in python>3.5 to multiply matrices together."
   ]
  },
  {
   "cell_type": "code",
   "execution_count": 59,
   "metadata": {
    "slideshow": {
     "slide_type": "fragment"
    }
   },
   "outputs": [
    {
     "name": "stdout",
     "output_type": "stream",
     "text": [
      "beta = [[-0.01066847]\n",
      " [-0.17601376]]\n",
      "err = [0.02845507 0.06356835]\n"
     ]
    }
   ],
   "source": [
    "# Append a column of ones next to the `x` values using `np.vander`: \n",
    "X = np.vander(x.ravel(), 2)\n",
    "inv_N = np.linalg.inv(np.identity(len(x)) * yerr**2)\n",
    "\n",
    "# Solve linear regression: \n",
    "betas = np.linalg.inv(X.T @ inv_N @ X) @ X.T @ inv_N @ y\n",
    "cov = np.linalg.inv(X.T @ inv_N @ X)\n",
    "\n",
    "# Compute best-fit line: \n",
    "best_fit = X @ betas \n",
    "errors = np.sqrt(np.diag(cov))\n",
    "\n",
    "print(f\"beta = {betas}\")\n",
    "print(f\"err = {errors}\")"
   ]
  },
  {
   "cell_type": "code",
   "execution_count": 60,
   "metadata": {
    "slideshow": {
     "slide_type": "fragment"
    }
   },
   "outputs": [
    {
     "data": {
      "image/png": "[encoded data removed]",
      "text/plain": [
       "<Figure size 576x432 with 1 Axes>"
      ]
     },
     "metadata": {
      "needs_background": "light"
     },
     "output_type": "display_data"
    }
   ],
   "source": [
    "# compute upper and lower limits on the confidence interval\n",
    "\n",
    "m, b = betas\n",
    "m_err, b_err = errors\n",
    "n = 1000\n",
    "samples = (b + b_err * np.random.randn(1, n) + \n",
    "           x * (m + m_err * np.random.randn(1, n)))\n",
    "lower_env, upper_env = np.percentile(samples, [16, 84], axis=1)\n",
    "\n",
    "# Plot the result\n",
    "plt.figure(figsize=(8, 6))\n",
    "plt.errorbar(x, y, yerr, fmt='.', color='k')\n",
    "plt.plot(x, best_fit)\n",
    "plt.fill_between(x[:, 0], lower_env, upper_env, \n",
    "                 alpha=0.3)\n",
    "plt.xlabel('x')\n",
    "plt.ylabel('y');"
   ]
  },
  {
   "cell_type": "markdown",
   "metadata": {
    "slideshow": {
     "slide_type": "slide"
    }
   },
   "source": [
    "\n",
    "# Gaussian process regression\n",
    "\n",
    "Gaussian process regression, in this example, is a technique for interpolating between observations or predicting the values of observations at a given time. The linear algebra this time looks a little more complicated, but it's a similar process:   \n",
    "\n",
    "We define a \"**covariance function**\" or \"**kernel function**\"\n",
    "\n",
    "$$ {\\bf K}({\\bf x_1}, {\\bf x_2}) = \\exp\\left(-\\frac{(x_1 - x_2)^2}{2 \\ell^2}\\right)   $$\n",
    "\n",
    "A **kernel function** describes the correlation between neighboring points. To start, we're using \"squared exponential\" kernel, which equivalent to saying \"the correlation between neighboring points is defined by a Gaussian with one parameter: $\\ell$.\" We call the tunable parameters within the kernel function **hyperparameters**. Don't let the fancy name intimidate you – all hyperparameters do is define the kernel function, which describes how correlated neighboring points are. \n",
    "\n",
    "##### The $\\ell$ hyperparameter \n",
    "\n",
    "The $\\ell$ parameter sets the autocorrelation timescale, in other words, how far two points need to be from each other in $x$ (time) before they are no longer correlated. If $\\ell$ is large, distant points become more correlated, or in other words, the function becomes smoother. If $\\ell$ is small, the function varies more rapidly with $x$. "
   ]
  },
  {
   "cell_type": "markdown",
   "metadata": {
    "slideshow": {
     "slide_type": "slide"
    }
   },
   "source": [
    "### Predicting observations at arbitrary $x$\n",
    "\n",
    "Let's say that we've taken observations at times ${\\bf x}$ and we'd like to predict unobserved values of $y$ at new times ${\\bf x_\\star}$. ${\\bf I}$ is the identity matrix, and $\\sigma_n$ is the uncertainty on each measurement `y`. The predictive mean is (Equation 2.25 of [Rasmussen and Williams (2006)](http://www.gaussianprocess.org/gpml/)) \n",
    "\n",
    "$$ \\mu_* = {\\bf K(x, x_*)}^\\top ({\\bf K(x, x)} + \\sigma_n^2 {\\bf I})^{-1} {\\bf y},  $$\n",
    "\n",
    "and the covariance is (Equation 2.26)\n",
    "\n",
    "$$ \\mathrm{cov} = {\\bf K}({\\bf x_*}, {\\bf x_*})- {\\bf K(x, x_*)}^\\top ({\\bf K(x, x)}+ \\sigma_n^2 {\\bf I})^{-1} {\\bf K(x, x_*)}, $$ \n",
    "\n",
    "and thus the uncertainty on the $\\mu_*$ predictions are given by\n",
    "\n",
    "$$ \\mathrm{err} = \\sqrt{\\mathrm{diag}\\left( \\mathrm{cov} \\right)}$$ \n",
    "\n",
    "where the $\\textrm{diag}$ operator extracts the diagonal of a matrix. \n",
    "\n",
    "We also get the log marginal likelihood by computing: \n",
    "\n",
    "$$ \\ln p({\\bf y} | X) = -\\frac{1}{2} {\\bf y}^\\top ({\\bf K(x, x)} + \\sigma_n^2 {\\bf I})^{-1} {\\bf y} - \\frac{1}{2}\\log{ \\left|{\\bf K(x, x)} + \\sigma_n^2 {\\bf I}\\right|} - \\frac{n}{2}\\log{2\\pi} $$\n",
    "\n",
    "We can implement this in just a few lines of Python:"
   ]
  },
  {
   "cell_type": "markdown",
   "metadata": {
    "slideshow": {
     "slide_type": "slide"
    }
   },
   "source": [
    "Let's define some utility functions: "
   ]
  },
  {
   "cell_type": "code",
   "execution_count": 61,
   "metadata": {
    "slideshow": {
     "slide_type": "fragment"
    }
   },
   "outputs": [],
   "source": [
    "def square_distance(x1, x2): \n",
    "    \"\"\"\n",
    "    Compute the squared distance between two vectors `x1` and `x2`, which\n",
    "    need not have the same shape. \n",
    "    \n",
    "    Note that (x1 - x2)^2 = x1^2 + x2^2 - 2 * x1 * x2, so we can use terse\n",
    "    (and rather opaque) numpy syntax implemented here to avoid loops. \n",
    "    \n",
    "    Parameters\n",
    "    ----------\n",
    "    x1 : `~numpy.ndarray`\n",
    "        Positions with shape (M, 1)\n",
    "    x2 : `~numpy.ndarray`\n",
    "        Positions with shape (N, 1)\n",
    "    \n",
    "    Returns \n",
    "    -------\n",
    "    d : `~numpy.ndarray`\n",
    "        Distances between each position with shape (M, N)\n",
    "    \"\"\"\n",
    "    ## The code after `return` is shorthand for the \n",
    "    ## following routine, but much faster:\n",
    "    # result = np.zeros((len(x1), len(x2)))\n",
    "    # for i in range(len(x1)): \n",
    "    #     for j in range(len(x2)):\n",
    "    #         result[i, j] = (x1[i] - x2[j])**2\n",
    "    \n",
    "    return (np.sum(x1**2, axis=1)[:, None] + \n",
    "            np.sum(x2**2, axis=1) - 2 * x1 @ x2.T)\n",
    "            "
   ]
  },
  {
   "cell_type": "code",
   "execution_count": 62,
   "metadata": {
    "slideshow": {
     "slide_type": "fragment"
    }
   },
   "outputs": [],
   "source": [
    "def sq_exp_kernel(x1, x2, ell=1): \n",
    "    \"\"\"\n",
    "    Squared-exponential kernel function\n",
    "    \n",
    "    Parameters\n",
    "    ----------\n",
    "    x1 : `~numpy.ndarray`\n",
    "        Positions with shape (M, 1)\n",
    "    x2 : `~numpy.ndarray`\n",
    "        Positions with shape (N, 1)\n",
    "        \n",
    "    Returns\n",
    "    -------\n",
    "    k : `~numpy.ndarray`\n",
    "        Covariance between `x1` and `x2`\n",
    "    \"\"\"\n",
    "    sqdist = square_distance(x1, x2)\n",
    "\n",
    "    return np.exp(-0.5 * sqdist / ell**2)"
   ]
  },
  {
   "cell_type": "code",
   "execution_count": 63,
   "metadata": {
    "slideshow": {
     "slide_type": "fragment"
    }
   },
   "outputs": [],
   "source": [
    "def gaussian_process_regression(x, y, yerr, xtest, kernel, **kwargs): \n",
    "    \"\"\"\n",
    "    Gaussian process regression for column vectors `x` and `y` with \n",
    "    uncertainties `yerr`; predict values at `xtest` using `kernel`.\n",
    "    \n",
    "    You may ignore the **kwargs trick we're using here, which will come \n",
    "    in handy later. \n",
    "    \n",
    "    Parameters\n",
    "    ----------\n",
    "    x : `~numpy.ndarray`\n",
    "        Times of observations (for example)\n",
    "    y : `~numpy.ndarray`\n",
    "        Observations made at each `x`\n",
    "    yerr : `~numpy.ndarray`\n",
    "        Uncertainties on the observations `y`\n",
    "    xtest : `~numpy.ndarray`\n",
    "        New times (for example) with the same units as `x` \n",
    "    kernel : function\n",
    "        Kernel (covariance) function. \n",
    "    \n",
    "    Returns\n",
    "    -------\n",
    "    mu : `~numpy.ndarray`\n",
    "        Predictive mean of the  Gaussian processat new times `xtest`\n",
    "    cov : `~numpy.ndarray`\n",
    "        Predictive Gaussian process covariance matrix (which can \n",
    "        be used to compute uncertainties on `mu`) \n",
    "    lnlike : float\n",
    "        Log marginal likelihood of the Gaussian process model\n",
    "    \"\"\"\n",
    "    K = kernel(x, x, **kwargs) + yerr**2 * np.identity(len(x)) \n",
    "    K_s = kernel(x, xtest, **kwargs)\n",
    "    K_ss = kernel(xtest, xtest, **kwargs)\n",
    "    \n",
    "    # Take the inverse only once, since this is the most expensive computation:\n",
    "    inv_K = np.linalg.inv(K)\n",
    "    \n",
    "    # The `@` operator in python 3 is the matrix multiplication operator\n",
    "    mu = K_s.T @ inv_K @ y\n",
    "    cov = K_ss - K_s.T @ inv_K @ K_s\n",
    "    \n",
    "    # Compute the log likelihood\n",
    "    lnlike = (-0.5 * y.T @ inv_K @ y - 0.5 * np.log(np.linalg.det(K)) - \n",
    "              len(x)/2 * np.log(2*np.pi))\n",
    "    return mu, cov, lnlike\n",
    "\n",
    "def gp_interact(error_scale):\n",
    "    mu, cov, lnlike = gaussian_process_regression(x, y, yerr*error_scale, xtest, sq_exp_kernel)\n",
    "\n",
    "    err = np.sqrt(np.diagonal(cov))\n",
    "\n",
    "    plt.figure(figsize=(8, 6))\n",
    "    plt.errorbar(x, y, yerr*error_scale, fmt='.', color='k')\n",
    "    plt.plot(xtest.ravel(), mu.ravel(), label='GP mean')\n",
    "    plt.fill_between(xtest.ravel(), mu.ravel()-err, mu.ravel()+err, \n",
    "                     alpha=0.3, label='GP uncertainty')\n",
    "    plt.legend(loc='upper center')\n",
    "    plt.xlabel('x')\n",
    "    plt.ylabel('y');"
   ]
  },
  {
   "cell_type": "code",
   "execution_count": 64,
   "metadata": {
    "slideshow": {
     "slide_type": "slide"
    }
   },
   "outputs": [
    {
     "data": {
      "application/vnd.jupyter.widget-view+json": {
       "model_id": "c3c6325fe22d4698869fed310f6baa58",
       "version_major": 2,
       "version_minor": 0
      },
      "text/plain": [
       "interactive(children=(FloatSlider(value=0.5, description='error_scale', max=1.0, min=0.1), Output()), _dom_cla…"
      ]
     },
     "metadata": {},
     "output_type": "display_data"
    }
   ],
   "source": [
    "# Let's call our Gaussian process regression method on our data, interpolating between the observations: \n",
    "\n",
    "N = 100\n",
    "# Interpolate `N` observations from the minimum to maximum values of `x` \n",
    "xtest = np.linspace(x.min(), x.max(), N)[:, None]\n",
    "    \n",
    "# print('Vary the uncertainty with the scaling parameter \"error_scale\", gets multplied by the error in y:')\n",
    "interactive_plot = interactive(gp_interact, error_scale=(0.1, 1, 0.1))\n",
    "output = interactive_plot.children[-1]\n",
    "interactive_plot"
   ]
  },
  {
   "cell_type": "markdown",
   "metadata": {
    "slideshow": {
     "slide_type": "notes"
    }
   },
   "source": [
    "In the figure above, the blue line shows the predicted value of $y$ for values of $x$ where there were no observations – that's why we say Gaussian process regression is a form of interpolation. It's essentially interpolating between points, where the smoothness of the interpolation is set by the kernel function. \n",
    "\n",
    "But Gaussian process regression is more powerful than just predicting the value of $y$ for arbitrary $x$, it also computes the *uncertainty* of the prediction for arbitrary $x$. The blue region in the figure above shows the uncertainty on the predicted value of $y$ at each $x$. Note that the uncertainty is roughly equivalent to the width of the error bars where there are observations, and the uncertainty gets larger in between observations. You can **change the uncertainties on each point** and see its effect on the uncertainty in the predictive mean by sliding the `error_scale` slider above the plot. As your observations shift towards higher precision (smaller uncetainties), so does the Gaussian process model.  \n",
    "\n",
    "Gaussian process regression is often referred to as a form of **\"non-parametric\"** parameter estimation, which is a way of saying that you don't define the functional form of the mean, $\\mu$. $\\mu$ is not a polynomial function, it is not a trigonometric function, it is a highly adaptive interpolation function whose functional form is in fact defined by its covariance matrix (${\\bf K}$), rather than being some function $\\mu = f(x)$ (which means typically it's not easy to write the functional form of the GP in terms of $x$)."
   ]
  },
  {
   "cell_type": "markdown",
   "metadata": {
    "slideshow": {
     "slide_type": "slide"
    }
   },
   "source": [
    "### Squared-Exponential (Gaussian) Kernel\n",
    "\n",
    "Let's fit the data with an interactive kernel, which allows you to vary the $\\ell$ hyperparameter and see the results: "
   ]
  },
  {
   "cell_type": "code",
   "execution_count": 66,
   "metadata": {
    "slideshow": {
     "slide_type": "fragment"
    }
   },
   "outputs": [
    {
     "name": "stdout",
     "output_type": "stream",
     "text": [
      "Vary the hyperparameter \"ell\", which defines the autocorrelation timescale:\n"
     ]
    },
    {
     "data": {
      "application/vnd.jupyter.widget-view+json": {
       "model_id": "5ab5cbdd848042d4b8c95b4c912d3631",
       "version_major": 2,
       "version_minor": 0
      },
      "text/plain": [
       "interactive(children=(IntSlider(value=5, description='ell', max=10, min=1), Output()), _dom_classes=('widget-i…"
      ]
     },
     "metadata": {},
     "output_type": "display_data"
    }
   ],
   "source": [
    "def gp_interact(ell):\n",
    "    \"\"\"\n",
    "    The contents of this function will be interactive!\n",
    "    \"\"\"\n",
    "    def sq_exp_kernel_interactive(x1, x2=None, ell=ell): \n",
    "        \"\"\"\n",
    "        Interactive Gaussian Kernel function\n",
    "        \"\"\"\n",
    "        if x2 is not None: \n",
    "            sqdist = square_distance(x1, x2)\n",
    "        else: \n",
    "            sqdist = x1**2\n",
    "            \n",
    "        return np.exp(-0.5 * sqdist / ell**2)\n",
    "    \n",
    "    mu, cov, lnlike = gaussian_process_regression(x, y, yerr, xtest, sq_exp_kernel_interactive)\n",
    "    err = np.sqrt(np.diag(cov))\n",
    "    \n",
    "    fig, ax = plt.subplots(1, 3, figsize=(14, 4))\n",
    "    ax[0].errorbar(x, y, yerr, fmt='.', color='k')\n",
    "    ax[0].plot(xtest.ravel(), mu.ravel(), label='GP Mean')\n",
    "    ax[0].fill_between(xtest.ravel(),  mu.ravel()-err, mu.ravel()+err, \n",
    "                       alpha=0.2, label='GP Uncertainty')\n",
    "    ax[0].set(xlabel='$x$', ylabel='$y$', title='GP Regression')\n",
    "    \n",
    "    ax[1].set(xlabel='$x_1$', ylabel='$x_2$', title='Covariance matrix')\n",
    "    ax[1].imshow(sq_exp_kernel_interactive(x, x))\n",
    "    \n",
    "    lags = np.linspace(0, 10)\n",
    "    ax[2].plot(lags, sq_exp_kernel_interactive(lags))\n",
    "    ax[2].set(xlabel='Lags', ylabel='Covariance', title='Autocorrelation Function')\n",
    "    fig.tight_layout()\n",
    "    plt.show()\n",
    "\n",
    "print('Vary the hyperparameter \"ell\", which defines the autocorrelation timescale:')\n",
    "interactive_plot = interactive(gp_interact, ell=(1, 10, 1))\n",
    "output = interactive_plot.children[-1]\n",
    "interactive_plot"
   ]
  },
  {
   "cell_type": "markdown",
   "metadata": {
    "slideshow": {
     "slide_type": "notes"
    }
   },
   "source": [
    "In the figure above, the left plot shows the mean model (blue) with its uncertainty (blue shaded region), and the data (black circles). \n",
    "\n",
    "The middle plot shows the covariance matrix – note that it's got most of its weight along the diagonal, which is a mathematical representation of saying \"observations close in $x$ to one another are more correlated than observations far apart in $x$\". The brightness of each pixel corresponds to the strength of the correlation between the two inputs $x_1$ and $x_2$. \n",
    "\n",
    "Alternatively, a simpler way to visualize the behavior of your kernel function is to plot the kernel function directly, which is shown on the right. Note how distant points (large lags) have stronger autocorrelation power when `ell` is large."
   ]
  },
  {
   "cell_type": "code",
   "execution_count": null,
   "metadata": {},
   "outputs": [],
   "source": []
  }
 ],
 "metadata": {
  "celltoolbar": "Slideshow",
  "kernelspec": {
   "display_name": "Python 3",
   "language": "python",
   "name": "python3"
  },
  "language_info": {
   "codemirror_mode": {
    "name": "ipython",
    "version": 3
   },
   "file_extension": ".py",
   "mimetype": "text/x-python",
   "name": "python",
   "nbconvert_exporter": "python",
   "pygments_lexer": "ipython3",
   "version": "3.7.4"
  }
 },
 "nbformat": 4,
 "nbformat_minor": 4
}
